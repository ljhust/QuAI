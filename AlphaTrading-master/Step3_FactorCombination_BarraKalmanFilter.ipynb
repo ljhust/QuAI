{
 "cells": [
  {
   "cell_type": "markdown",
   "metadata": {},
   "source": [
    "# Step Three: Barra's Risk Model\n",
    "\n",
    "Firstly, we define the dynamics of the price process with respect to factors(determined by step1 and step2). \n",
    "\n",
    "Secondly, using three different schemes to calibrate the coefficients.\n",
    "\n",
    "* Scheme 1: Cross-sectional regression and weighted average\n",
    "* Scheme 2: Optimization problem: minimize the exponential weighted average of squared error\n",
    "* Scheme 3: Dynamic linear model using Kalman filter\n",
    "\n",
    "## 1 Dynamics of Price\n",
    "Based on the celebrated APT model and Berra's risk model, I proposed the stock forecasting model as the following expression.\n",
    "\n",
    "$$r_{i}(t) = \\alpha(t) + \\sum_{k=1}^K \\beta_{ik}(t) F_{ik}(t)$$\n",
    "\n",
    "or more consistently,\n",
    "\n",
    "$$r_{t,i} = \\alpha_t + \\sum_{k=1}^K \\beta_{t,i,k} F_{t,i,k}$$\n",
    "\n",
    "The factor exposures $\\beta$ of the stock i to the factor k in the time t is assumed to be known in this model (a postulate), and valuated as the rescaled (normalized) factor values. \n",
    "\n",
    "For model calibration, there are three ways to handle it: a) cross-sectional regression, b) gradient descend scheme for the loss function, and c) kalman filter."
   ]
  },
  {
   "cell_type": "markdown",
   "metadata": {},
   "source": [
    "### 1.1 Model Definition"
   ]
  },
  {
   "cell_type": "code",
   "execution_count": 4,
   "metadata": {
    "collapsed": false
   },
   "outputs": [],
   "source": [
    "import pandas as pd\n",
    "import statsmodels.api as sm\n",
    "from statsmodels import regression,stats\n",
    "import itertools\n",
    "from pykalman import KalmanFilter\n",
    "idx = pd.IndexSlice\n",
    "\n",
    "class MultiFactorModel:\n",
    "    def __init__(self, price_df, equity_df, benchmark_df, factor_list, universe):\n",
    "        self.price_df = price_df\n",
    "        self.equity_df = equity_df\n",
    "        self.benchmark_df = benchmark_df\n",
    "        self.factor_list = factor_list\n",
    "        self.universe = universe\n",
    "        self.valid_universe = Nones\n",
    "        self.subset = None\n",
    "        \n",
    "        # z-score in universe\n",
    "        tmp_equity_df = self.calculate_subset_df(self.equity_df,self.universe)\n",
    "        tmp_equity_df = tmp_equity_df[factor_list].fillna(0) # TODO: fill or drop??\n",
    "        self.factor_zscore = (tmp_equity_df - tmp_equity_df.groupby(level='date').mean())/tmp_equity_df.groupby(level='date').std()\n",
    "        \n",
    "        # valide_universe\n",
    "        self.valid_universe = self.calculate_valid_universe()\n",
    "        self.valid_factor_zscore = self.factor_zscore.loc[idx[:,self.valid_universe],:]\n",
    "\n",
    "\n",
    "    def calculate_valid_universe(self):\n",
    "        valid_universe = set(self.universe)\n",
    "\n",
    "        for date,group in self.factor_zscore.groupby(level=0):\n",
    "            size = group.shape[0]\n",
    "            new_set = set(group.loc[idx[:,valid_universe],:].index.get_level_values(1).values)\n",
    "            if(new_set<valid_universe):\n",
    "                valid_universe = new_set\n",
    "        # self.valid_universe = valid_universe        \n",
    "        return valid_universe\n",
    "\n",
    "    def calculate_subset_df(self,df,subset):\n",
    "        return df.loc[idx[:,subset],:]\n",
    "        \n",
    "    def calculate_portfolio_risk(self,hp):\n",
    "        if(~hasattr(self,'V') or self.V==None):\n",
    "            self.cross_section_regression()\n",
    "        sigmap = np.sqrt(np.dot(np.dot(hp.T,self.V),hp))\n",
    "        MCTR = np.dot(self.V,hp)/sigmap\n",
    "        return self.V, sigmap, MCTR\n",
    "        \n",
    "    def time_series_regression(self):\n",
    "        ts_factor_zscore = sm.add_constant(self.factor_zscore)\n",
    "        Y = [self.equity_df.xs(asset,level=1)['return'] for asset in self.valid_universe]\n",
    "        X = [ts_factor_zscore.xs(asset,level=1)[factor_list+['const']] for asset in self.valid_universe]\n",
    "        reg_results = [regression.linear_model.OLS(y,x).fit().params for y,x in zip(Y,X) if not(x.empty or y.empty)]\n",
    "        indices = [asset for y, x, asset in zip(Y, X, self.valid_universe) if not(x.empty or y.empty)]\n",
    "        ts_result_df = pd.DataFrame(reg_results, index=indices)\n",
    "        return ts_result_df\n",
    "    \n",
    "#     def regression(self,tau):\n",
    "#         Xtik = self.factor_zscore.loc[idx[:,self.valid_universe],:]\n",
    "#         n_factors = len(self.factor_list)\n",
    "#         starting_point = np.zeros(n_factors)\n",
    "#         Fk = starting_point\n",
    "#         at = self.benchmark_df['return']\n",
    "#         rti = self.equity_df.loc[idx[:,self.valid_universe],'return']\n",
    "        \n",
    "#         def grad_loss(X,F,r,a,tau):\n",
    "#             n_factor = len(F)\n",
    "#             n_time = len(self.equity_df.index.get_level_values(level=0).unique())\n",
    "#             n_stock = len(self.valid_universe)\n",
    "#             grad = np.zeros(n_factor)\n",
    "#             for k in range(n_factor):\n",
    "#                 gradk = 0\n",
    "#                 for t in range(n_time):\n",
    "#                     for i in range(n_stock):\n",
    "#                         gradk += 2*tau**(n_time-t)*(a[t]+np.dot(X[t,i,:],F[:]) - r[t,i])*X[t,i,k]\n",
    "#                 grad[k] = gradk\n",
    "#             return grad\n",
    "                \n",
    "        \n",
    "    \n",
    "    \n",
    "#TODO: exponential decay regression, alpha contribution\n",
    "    def cross_section_regression(self, ndays=22, latest=True):\n",
    "        valid_factor_zscore = self.factor_zscore.loc[idx[:,self.valid_universe],:]\n",
    "        if(latest):\n",
    "            dates = valid_factor_zscore.index.get_level_values(level=0).unique()[-ndays:]\n",
    "        else:\n",
    "            dates = valid_factor_zscore.index.get_level_values(level=0).unique()[:ndays]\n",
    "        valid_factor_zscore = valid_factor_zscore.loc[idx[dates,:],:]\n",
    "        \n",
    "        result_list = []\n",
    "        date_list = []\n",
    "        for date,group in valid_factor_zscore.groupby(level=0):\n",
    "            X = sm.add_constant(group.loc[:,self.factor_list])\n",
    "            y = list(equity_df.loc[(date,list(self.valid_universe)),'return'])          \n",
    "            results = sm.regression.linear_model.OLS(y,X).fit()\n",
    "            result_list.append(results.params)\n",
    "            date_list.append(date)\n",
    "\n",
    "        cs_result_df = pd.DataFrame(result_list,index=date_list)\n",
    "        F = np.cov(cs_result_df.iloc[:,1:].T)\n",
    "        X = self.valid_factor_zscore.groupby(level=1).mean()\n",
    "        V = np.inner(np.inner(X,F),X)\n",
    "        self.F = F\n",
    "        self.X = X\n",
    "        self.V = V\n",
    "        \n",
    "        return cs_result_df\n",
    "    \n",
    "    def kalman_filter_calibration(self):\n",
    "        asset_size = len(self.valid_universe)\n",
    "        factor_size = len(self.factor_list)\n",
    "        observation_transition_matrix = []\n",
    "        for date,group in self.valid_factor_zscore.groupby(level=0):\n",
    "            exposure_matrix = group.values\n",
    "#             print(np.shape(exposure_matrix))\n",
    "#             print(asset_size)\n",
    "            observation_transition_matrix.append(\n",
    "                np.concatenate((np.eye(asset_size),exposure_matrix),axis=1).tolist()\n",
    "            )\n",
    "        observations = self.equity_df.loc[idx[:,self.valid_universe],'return']\n",
    "        observation_list = []\n",
    "        for date,group in observations.groupby(level=0):\n",
    "            observation_list.append(group.values.tolist())\n",
    "            \n",
    "        state_transition_matrix = np.eye(factor_size+asset_size)\n",
    "        state_covariance_matrix = np.eye(factor_size+asset_size)*0.01\n",
    "        observation_matrices = observation_transition_matrix\n",
    "        observation_covariance_matrix = np.eye(asset_size)*0.0\n",
    "        initial_state_mean = np.zeros(factor_size+asset_size)\n",
    "        initial_state_covariance = np.eye(factor_size+asset_size)*0.01\n",
    "\n",
    "\n",
    "        nstate = factor_size+asset_size\n",
    "        nobs = asset_size\n",
    "#         print(state_transition_matrix.shape)\n",
    "#         print(state_covariance_matrix.shape)\n",
    "#         print(np.shape(observation_matrices))\n",
    "#         print(observation_covariance_matrix.shape==(nobs,nobs))\n",
    "#         print(initial_state_mean.shape==(nstate,))\n",
    "#         print(initial_state_covariance.shape==(nstate,nstate))\n",
    "\n",
    "\n",
    "        kf = KalmanFilter(transition_matrices=state_transition_matrix,\n",
    "                 transition_covariance=state_covariance_matrix,\n",
    "                 observation_matrices=observation_matrices,\n",
    "                 observation_covariance=observation_covariance_matrix,\n",
    "                 initial_state_mean=initial_state_mean,\n",
    "                 initial_state_covariance=initial_state_covariance,\n",
    "                 n_dim_state=nstate,\n",
    "                 n_dim_obs=nobs)\n",
    "        returns = kf.filter(observation_list)\n",
    "        filtered_state_means = returns[0]\n",
    "        # a and F\n",
    "        a_list = []\n",
    "        F_list = []\n",
    "        for state in filtered_state_means:\n",
    "            a = state[:asset_size]\n",
    "            F = state[asset_size:]\n",
    "            a_list.append(a)\n",
    "            F_list.append(F)\n",
    "            \n",
    "        a_df = pd.Series(list(itertools.chain(*a_list)),index = self.valid_factor_zscore.index,name='alpha')\n",
    "        \n",
    "        F_list_temp = [[F,]*asset_size for F in F_list]\n",
    "        # subset_factor_zscore.index.get_level_values(0).unique()\n",
    "        F_list_temp = list(itertools.chain(*F_list_temp))\n",
    "        F_df = pd.DataFrame(F_list_temp,columns=[\"{}_F\".format(f) for f in factor_list],index=self.valid_factor_zscore.index)\n",
    "        \n",
    "        return_df = self.equity_df.loc[idx[:,self.valid_universe],'return']\n",
    "        close_df = self.equity_df.loc[idx[:,self.valid_universe],'close']\n",
    "        kf_df = pd.concat([self.valid_factor_zscore,F_df,a_df,return_df,close_df],axis=1)\n",
    "        self.kf_df = kf_df\n",
    "        return kf_df\n",
    "\n",
    "        "
   ]
  },
  {
   "cell_type": "markdown",
   "metadata": {},
   "source": [
    "### 1.2 Pull Data"
   ]
  },
  {
   "cell_type": "code",
   "execution_count": 2,
   "metadata": {
    "collapsed": true
   },
   "outputs": [],
   "source": [
    "from rqdata_utils import *\n",
    "import pandas as pd\n",
    "import numpy as np\n",
    "import scipy as sp\n",
    "import alphalens as al\n",
    "from pykalman import KalmanFilter\n",
    "\n",
    "\n",
    "price_df,instrument_df,equity_df = get_price_instrument_equity(\"cn_stock_price_2012_2018.csv\",\"cn_instrument_info_2012_2018.csv\",\"cn_equity_daily_2012_2018.csv\",\"sectorCode\")\n",
    "healthcare_universe = instrument_df.index[instrument_df.sectorCode=='HealthCare'].values\n",
    "benchmark_df = benchmark_reader(\"cn_SH_healthcare_index_2012_2018.csv\")\n",
    "factor_list = ['market_cap', 'pb_ratio', 'ps_ratio']\n",
    "universe_list = instrument_df.index[instrument_df.sectorCode=='HealthCare'].values"
   ]
  },
  {
   "cell_type": "markdown",
   "metadata": {},
   "source": [
    "### 1.3 Inject Data into the Model"
   ]
  },
  {
   "cell_type": "code",
   "execution_count": 5,
   "metadata": {
    "collapsed": false
   },
   "outputs": [],
   "source": [
    "myModel = MultiFactorModel(price_df, equity_df, benchmark_df, factor_list, universe_list)"
   ]
  },
  {
   "cell_type": "markdown",
   "metadata": {},
   "source": [
    "## Model Calibration\n",
    "\n",
    "* Scheme 1: Cross-sectional regression and weighted average\n",
    "* Scheme 2: Optimization problem: minimize the exponential weighted average of squared error\n",
    "* Scheme 3: Dynamic linear model using Kalman filter\n",
    "\n",
    "The schemes one, two, three are slightly evolutional related. Scheme one is just the original BARRA's risk model defined, scheme two further defined a objective function to obtain the coefficients, and scheme three introduce Kalman filter to fit the dynamic linear model."
   ]
  },
  {
   "cell_type": "markdown",
   "metadata": {
    "collapsed": false
   },
   "source": [
    "### 2.1 Calibration Scheme 1: Cross-Sectional Regression and Weighted Average"
   ]
  },
  {
   "cell_type": "code",
   "execution_count": 36,
   "metadata": {
    "collapsed": false
   },
   "outputs": [
    {
     "name": "stdout",
     "output_type": "stream",
     "text": [
      "            market_cap  pb_ratio  ps_ratio\n",
      "2017-10-16    0.004067  0.001988 -0.002809\n",
      "2017-10-17    0.001545 -0.003527  0.003828\n",
      "2017-10-18    0.003857  0.001502 -0.004133\n",
      "2017-10-19    0.006112 -0.000609  0.001779\n",
      "2017-10-20   -0.002669 -0.001985  0.005158\n",
      "V:\n",
      "[[ 3.19844460e-05 -7.42713103e-06  5.18342510e-06 ...  2.25855232e-06\n",
      "  -1.12620455e-07 -2.46779972e-05]\n",
      " [-7.42713103e-06  1.60948004e-05 -1.76671909e-05 ... -9.67456183e-06\n",
      "  -8.91835400e-08  1.85188600e-05]\n",
      " [ 5.18342510e-06 -1.76671909e-05  1.98030463e-05 ...  1.16950009e-05\n",
      "  -4.77268788e-07 -1.67809236e-05]\n",
      " ...\n",
      " [ 2.25855232e-06 -9.67456183e-06  1.16950009e-05 ...  1.30630599e-05\n",
      "  -4.88037744e-06  5.75765299e-06]\n",
      " [-1.12620455e-07 -8.91835400e-08 -4.77268788e-07 ... -4.88037744e-06\n",
      "   3.45766356e-06 -1.09477448e-05]\n",
      " [-2.46779972e-05  1.85188600e-05 -1.67809236e-05 ...  5.75765299e-06\n",
      "  -1.09477448e-05  6.49979346e-05]]\n",
      "sigma\n",
      "0.03377233630871653\n",
      "MCTR:\n",
      "[ 0.00078128  0.00349245 -0.00401757  0.00233878  0.00041072  0.0004083\n",
      "  0.00222235 -0.00621658  0.00352282 -0.00051361 -0.00095923  0.0025695\n",
      " -0.0020911   0.00181597  0.00121508  0.00254621  0.00259181 -0.00777772\n",
      "  0.0022341   0.0001535  -0.00194782 -0.00624887  0.00143136  0.00212528\n",
      "  0.00095299  0.000577    0.00218747  0.00055355  0.00315648  0.00213663\n",
      "  0.00238647  0.00040797  0.00277732  0.00337277  0.00037938  0.00223035\n",
      "  0.00230273 -0.001752    0.0020087   0.00203213  0.00160285 -0.00023433\n",
      "  0.00242781  0.00174764  0.00070743  0.00312676  0.00245787 -0.00103323\n",
      " -0.00720428  0.00291931  0.00133933  0.00127603  0.0015967  -0.00119847\n",
      " -0.00927106  0.00151585  0.00106341  0.0023      0.0027298  -0.00160792\n",
      " -0.00174121 -0.00041166  0.00386674]\n"
     ]
    }
   ],
   "source": [
    "factorReturn_df = myModel.cross_section_regression(ndays=132).iloc[:,(1,2,3)]\n",
    "print(factorReturn_df.head())\n",
    "hp = np.ones(len(myModel.valid_universe))\n",
    "V,sigma, MCTR = myModel.calculate_portfolio_risk(hp)\n",
    "print(\"V:\\n{}\\nsigma\\n{}\\nMCTR:\\n{}\".format(V,sigma,MCTR))"
   ]
  },
  {
   "cell_type": "code",
   "execution_count": 37,
   "metadata": {
    "collapsed": false
   },
   "outputs": [
    {
     "data": {
      "text/plain": [
       "market_cap    0.000550\n",
       "pb_ratio      0.000032\n",
       "ps_ratio      0.000151\n",
       "dtype: float64"
      ]
     },
     "execution_count": 37,
     "metadata": {},
     "output_type": "execute_result"
    }
   ],
   "source": [
    "def weight_avg(array_like, tau):\n",
    "    n_element = len(array_like)\n",
    "    weights = [tau**(n_element - i-1) for i in range(n_element)]\n",
    "    return np.average(array_like,weights=weights)\n",
    "factorReturn_df.apply(lambda x: weight_avg(x,1),axis=0)"
   ]
  },
  {
   "cell_type": "markdown",
   "metadata": {},
   "source": [
    "From this result, we can see the factor returns are under-estimated. Moreover, inconsistant with the market size effect. Here factor return for market cap should not be positive. An alternative choice would be the long-short portfolio based on each factor, which should be more practical as it can be more straight-forward to represent the factor returns. However, before doing so, let's try another optimization algorithm, gradient descend."
   ]
  },
  {
   "cell_type": "markdown",
   "metadata": {},
   "source": [
    "### 2.2 Calibration Scheme 2: Optimization Problem and Gradient Descend\n",
    "\n",
    "The loss function:\n",
    "$$obj = \\sum_{t=1}^T \\tau^{T-t} \\sum_{i=1}^N (a_t + \\sum_{k=1}^K X_{t,i,k} f_k - r_{t,i})^2$$\n",
    "Corresponding gradient function:\n",
    "$$\\frac{\\partial obj}{\\partial f_{k^\\prime}} = \\sum_{t=1}^T \\tau^{T-t} \\sum_{i=1}^N 2 (a_t + \\sum_{k=1}^K X_{t,i,k} f_k - r_{t,i}) X_{t,i,k^{\\prime}}$$\n",
    "\n",
    "Here $\\tau$ represents the half-life period. I used a dampened sum of squared error as the loss function"
   ]
  },
  {
   "cell_type": "code",
   "execution_count": 38,
   "metadata": {
    "collapsed": true
   },
   "outputs": [],
   "source": [
    "def grad_loss(X,F,r,a,tau,n_factor,n_time,n_stock,n_days=None):\n",
    "    grad = np.zeros(n_factor)\n",
    "    for k in range(n_factor):\n",
    "        gradk = 0\n",
    "        for t in range(n_time):\n",
    "            if(n_days!=None and n_time-t>n_days):\n",
    "                continue\n",
    "            else:\n",
    "                damper = tau**(n_time-t)\n",
    "                for i in range(n_stock):\n",
    "                    gradk += 2*damper*(a[t]+np.dot(X[t,i,:],F[:]) - r[t,i])*X[t,i,k]\n",
    "        grad[k] = gradk\n",
    "    return grad\n",
    "        \n",
    "def loss(X,F,r,a,tau,n_factor,n_time,n_stock):\n",
    "    loss = 0\n",
    "    for t in range(n_time):\n",
    "        for i in range(n_stock):\n",
    "            loss += a[t] -r[t,i]\n",
    "            loss += np.dot(X[t,i,:],F[:])\n",
    "            loss = loss**2 * tau**(n_time-t)\n",
    "    return loss\n",
    "                "
   ]
  },
  {
   "cell_type": "code",
   "execution_count": 40,
   "metadata": {
    "collapsed": false
   },
   "outputs": [],
   "source": [
    "X_df = myModel.factor_zscore.loc[idx[:,myModel.valid_universe],:]\n",
    "n_factors = len(myModel.factor_list)\n",
    "n_time = len(myModel.factor_zscore.index.get_level_values(0).unique())\n",
    "n_stocks = len(myModel.valid_universe)\n",
    "starting_point = np.zeros(n_factors)\n",
    "F = starting_point\n",
    "a_df = myModel.benchmark_df['return']\n",
    "r_df = myModel.equity_df.loc[idx[:,myModel.valid_universe],'return']"
   ]
  },
  {
   "cell_type": "code",
   "execution_count": 43,
   "metadata": {
    "collapsed": false
   },
   "outputs": [],
   "source": [
    "X = X_df.values.reshape(n_time,n_stocks,-1)\n",
    "a = a_df.values\n",
    "r = r_df.values.reshape(n_time,n_stocks)"
   ]
  },
  {
   "cell_type": "code",
   "execution_count": 45,
   "metadata": {
    "collapsed": false
   },
   "outputs": [
    {
     "name": "stdout",
     "output_type": "stream",
     "text": [
      "0.0010854417361952566 [1.00971943e-04 5.04011777e-05 2.01246325e-05]\n",
      "0.0010768884651663005 [1.78955730e-04 8.62188223e-05 3.40693426e-05]\n",
      "0.0010700715099318495 [2.39302675e-04 1.11486567e-04 4.36077670e-05]\n",
      "0.0010646276874447063 [2.86094112e-04 1.29152446e-04 5.00238621e-05]\n",
      "0.0010602726560927807 [3.22447687e-04 1.41365992e-04 5.42438643e-05]\n",
      "0.0010567830237503634 [3.50748807e-04 1.49690293e-04 5.69332518e-05]\n",
      "0.0010539827255753424 [3.72825728e-04 1.55258458e-04 5.85678911e-05]\n",
      "0.0010517325971302425 [3.90082151e-04 1.58888940e-04 5.94861575e-05]\n",
      "0.0010499223528246523 [4.03597774e-04 1.61170436e-04 5.99270497e-05]\n",
      "0.001048464385585839 [4.14204622e-04 1.62524290e-04 6.00580054e-05]\n",
      "0.001047288953295496 [4.22545091e-04 1.63250299e-04 5.99951560e-05]\n",
      "0.0010463404268252507 [4.29116128e-04 1.63560271e-04 5.98180350e-05]\n",
      "0.0010455743548112811 [4.34302927e-04 1.63602562e-04 5.95802290e-05]\n",
      "0.00104495515969231 [4.38404655e-04 1.63479976e-04 5.93170627e-05]\n",
      "0.0010444543237308852 [4.41654135e-04 1.63262786e-04 5.90511222e-05]\n",
      "0.0010440489568392809 [4.44232925e-04 1.62998183e-04 5.87962063e-05]\n",
      "0.0010437206629753278 [4.46282893e-04 1.62717104e-04 5.85601374e-05]\n",
      "0.001043454640779563 [4.47915113e-04 1.62439147e-04 5.83467480e-05]\n",
      "0.0010432389685325883 [4.49216730e-04 1.62176091e-04 5.81572732e-05]\n",
      "0.0010430640345463738 [4.50256243e-04 1.61934409e-04 5.79913175e-05]\n",
      "0.0010429220825942866 [4.51087602e-04 1.61717040e-04 5.78475180e-05]\n",
      "0.001042806848546405 [4.51753382e-04 1.61524635e-04 5.77239915e-05]\n",
      "0.0010427132694675084 [4.52287237e-04 1.61356425e-04 5.76186301e-05]\n",
      "0.0010426372503991334 [4.52715822e-04 1.61210806e-04 5.75292905e-05]\n",
      "0.0010425754771439687 [4.53060287e-04 1.61085749e-04 5.74539108e-05]\n",
      "0.0010425252657977324 [4.53337436e-04 1.60979055e-04 5.73905764e-05]\n",
      "0.0010424844416809442 [4.53560649e-04 1.60888528e-04 5.73375537e-05]\n",
      "0.0010424512418257842 [4.53740590e-04 1.60812075e-04 5.72933014e-05]\n",
      "0.001042424236360253 [4.53885775e-04 1.60747763e-04 5.72564680e-05]\n",
      "0.0010424022650715478 [4.54003014e-04 1.60693850e-04 5.72258815e-05]\n",
      "0.0010423843861760186 [4.54097758e-04 1.60648787e-04 5.72005347e-05]\n",
      "0.0010423698349156275 [4.54174378e-04 1.60611218e-04 5.71795677e-05]\n",
      "0.00104235799007269 [4.54236381e-04 1.60579968e-04 5.71622514e-05]\n",
      "0.00104234834687104 [4.54286588e-04 1.60554025e-04 5.71479703e-05]\n",
      "0.0010423404950324745 [4.54327265e-04 1.60532526e-04 5.71362071e-05]\n",
      "0.0010423341009979277 [4.54360239e-04 1.60514737e-04 5.71265286e-05]\n",
      "0.0010423288935155822 [4.54386981e-04 1.60500039e-04 5.71185732e-05]\n",
      "0.0010423246519527952 [4.54408679e-04 1.60487909e-04 5.71120399e-05]\n",
      "0.001042321196812921 [4.54426292e-04 1.60477909e-04 5.71066788e-05]\n",
      "0.001042318382037992 [4.54440595e-04 1.60469674e-04 5.71022826e-05]\n",
      "0.0010423160887586495 [4.54452213e-04 1.60462899e-04 5.70986799e-05]\n",
      "0.0010423142202174666 [4.54461653e-04 1.60457328e-04 5.70957291e-05]\n",
      "0.0010423126976440806 [4.54469327e-04 1.60452752e-04 5.70933136e-05]\n",
      "0.0010423114569027092 [4.54475566e-04 1.60448994e-04 5.70913371e-05]\n",
      "0.0010423104457666936 [4.54480640e-04 1.60445911e-04 5.70897205e-05]\n",
      "0.0010423096217022463 [4.54484767e-04 1.60443383e-04 5.70883987e-05]\n",
      "0.00104230895006586 [4.54488125e-04 1.60441310e-04 5.70873184e-05]\n",
      "0.001042308402637866 [4.54490858e-04 1.60439612e-04 5.70864356e-05]\n",
      "0.00104230795642922 [4.54493082e-04 1.60438221e-04 5.70857145e-05]\n",
      "0.0010423075927104399 [4.54494893e-04 1.60437082e-04 5.70851256e-05]\n",
      "0.0010423072962212094 [4.54496367e-04 1.60436150e-04 5.70846447e-05]\n",
      "0.0010423070545269321 [4.54497568e-04 1.60435388e-04 5.70842521e-05]\n",
      "0.0010423068574948486 [4.54498545e-04 1.60434764e-04 5.70839316e-05]\n",
      "0.00104230669686744 [4.54499342e-04 1.60434254e-04 5.70836701e-05]\n",
      "0.0010423065659150156 [4.54499990e-04 1.60433837e-04 5.70834567e-05]\n",
      "0.001042306459152757 [4.54500519e-04 1.60433496e-04 5.70832826e-05]\n",
      "0.0010423063721102283 [4.54500949e-04 1.60433217e-04 5.70831406e-05]\n",
      "0.0010423063011436198 [4.54501300e-04 1.60432989e-04 5.70830247e-05]\n",
      "0.0010423062432827785 [4.54501586e-04 1.60432803e-04 5.70829302e-05]\n",
      "0.0010423061961065791 [4.54501819e-04 1.60432651e-04 5.70828531e-05]\n",
      "0.0010423061576413683 [4.54502009e-04 1.60432527e-04 5.70827902e-05]\n",
      "0.0010423061262782149 [4.54502164e-04 1.60432426e-04 5.70827389e-05]\n",
      "0.0010423061007054737 [4.54502290e-04 1.60432343e-04 5.70826971e-05]\n",
      "0.001042306079853827 [4.54502393e-04 1.60432275e-04 5.70826630e-05]\n",
      "0.0010423060628514935 [4.54502476e-04 1.60432220e-04 5.70826352e-05]\n",
      "0.00104230604898772 [4.54502545e-04 1.60432175e-04 5.70826126e-05]\n",
      "0.001042306037683028 [4.54502600e-04 1.60432138e-04 5.70825941e-05]\n",
      "0.0010423060284649548 [4.54502646e-04 1.60432108e-04 5.70825790e-05]\n",
      "0.0010423060209482882 [4.54502683e-04 1.60432084e-04 5.70825667e-05]\n",
      "0.0010423060148189451 [4.54502713e-04 1.60432064e-04 5.70825567e-05]\n",
      "0.0010423060098208336 [4.54502738e-04 1.60432048e-04 5.70825485e-05]\n",
      "0.001042306005745147 [4.54502758e-04 1.60432034e-04 5.70825419e-05]\n",
      "0.0010423060024216248 [4.54502774e-04 1.60432023e-04 5.70825365e-05]\n",
      "0.0010423059997114394 [4.54502787e-04 1.60432015e-04 5.70825320e-05]\n",
      "0.0010423059975013906 [4.54502798e-04 1.60432007e-04 5.70825284e-05]\n",
      "0.0010423059956991738 [4.54502807e-04 1.60432001e-04 5.70825255e-05]\n",
      "0.0010423059942295228 [4.54502814e-04 1.60431997e-04 5.70825231e-05]\n",
      "0.0010423059930310635 [4.54502820e-04 1.60431993e-04 5.70825211e-05]\n",
      "0.0010423059920537487 [4.54502825e-04 1.60431989e-04 5.70825195e-05]\n",
      "0.0010423059912567697 [4.54502829e-04 1.60431987e-04 5.70825182e-05]\n",
      "0.001042305990606847 [4.54502832e-04 1.60431985e-04 5.70825172e-05]\n",
      "0.0010423059900768448 [4.54502835e-04 1.60431983e-04 5.70825163e-05]\n",
      "0.0010423059896446348 [4.54502837e-04 1.60431982e-04 5.70825156e-05]\n",
      "0.0010423059892921722 [4.54502839e-04 1.60431980e-04 5.70825150e-05]\n",
      "0.0010423059890047417 [4.54502840e-04 1.60431979e-04 5.70825146e-05]\n",
      "0.0010423059887703437 [4.54502841e-04 1.60431979e-04 5.70825142e-05]\n",
      "0.0010423059885791928 [4.54502842e-04 1.60431978e-04 5.70825139e-05]\n",
      "0.0010423059884233088 [4.54502843e-04 1.60431978e-04 5.70825136e-05]\n",
      "0.0010423059882961867 [4.54502843e-04 1.60431977e-04 5.70825134e-05]\n",
      "0.001042305988192518 [4.54502844e-04 1.60431977e-04 5.70825132e-05]\n",
      "0.0010423059881079753 [4.54502844e-04 1.60431977e-04 5.70825131e-05]\n",
      "0.0010423059880390307 [4.54502845e-04 1.60431976e-04 5.70825130e-05]\n",
      "0.0010423059879828057 [4.54502845e-04 1.60431976e-04 5.70825129e-05]\n",
      "0.0010423059879369543 [4.54502845e-04 1.60431976e-04 5.70825128e-05]\n",
      "0.0010423059878995613 [4.54502845e-04 1.60431976e-04 5.70825128e-05]\n",
      "0.0010423059878690672 [4.54502846e-04 1.60431976e-04 5.70825127e-05]\n",
      "0.0010423059878441991 [4.54502846e-04 1.60431976e-04 5.70825127e-05]\n",
      "0.0010423059878239191 [4.54502846e-04 1.60431976e-04 5.70825126e-05]\n",
      "0.00104230598780738 [4.54502846e-04 1.60431976e-04 5.70825126e-05]\n",
      "0.0010423059877938928 [4.54502846e-04 1.60431975e-04 5.70825126e-05]\n"
     ]
    }
   ],
   "source": [
    "F = np.zeros(n_factors)\n",
    "for step in range(100):\n",
    "    sse = loss(X[-100:,:,(0,1,2)],F,r[-100:,:],a[-100:],1,n_factors,100,n_stocks)\n",
    "    F -= grad_loss(X[-100:,:,(0,1,2)],F,r[-100:,:],a[-100:],1,n_factors,n_time=100,n_stock=n_stocks)*0.00001\n",
    "    print(sse,F)"
   ]
  },
  {
   "cell_type": "markdown",
   "metadata": {
    "collapsed": true
   },
   "source": [
    "Unfortunately, the gredient descend scheme cannot guarantee to lead us to the global optimum. And it is still not helpful in interpreting market size effect."
   ]
  },
  {
   "cell_type": "markdown",
   "metadata": {},
   "source": [
    "### 2.3 Calibration Scheme 3: Kalman Filter"
   ]
  },
  {
   "cell_type": "code",
   "execution_count": 47,
   "metadata": {
    "collapsed": false
   },
   "outputs": [],
   "source": [
    "kf_df = myModel.kalman_filter_calibration()"
   ]
  },
  {
   "cell_type": "code",
   "execution_count": 50,
   "metadata": {
    "collapsed": false
   },
   "outputs": [
    {
     "data": {
      "image/png": "[encoded data removed]",
      "text/plain": [
       "<matplotlib.figure.Figure at 0x1187bdb70>"
      ]
     },
     "metadata": {},
     "output_type": "display_data"
    }
   ],
   "source": [
    "import matplotlib.pyplot as plt\n",
    "kf_df['market_cap_F'].plot()\n",
    "plt.show()"
   ]
  },
  {
   "cell_type": "markdown",
   "metadata": {},
   "source": [
    "Even more unreliable. The factor return for market cap size is highly positive and volatile."
   ]
  },
  {
   "cell_type": "markdown",
   "metadata": {},
   "source": [
    "## Conclusion\n",
    "So, from all the three schemes we have discussed above, we concluded that even though BARRA's risk model has the virtue of simplicity, it is not feasible in interpreting factor returns. Or the regular calibration schemes need amendment. Personally I prefer the scheme 2 as it reserve the simplicity of the objective, but may need a better approach to get the globel optimization."
   ]
  },
  {
   "cell_type": "code",
   "execution_count": null,
   "metadata": {
    "collapsed": true
   },
   "outputs": [],
   "source": []
  }
 ],
 "metadata": {
  "kernelspec": {
   "display_name": "Python 3",
   "language": "python",
   "name": "python3"
  },
  "language_info": {
   "codemirror_mode": {
    "name": "ipython",
    "version": 3
   },
   "file_extension": ".py",
   "mimetype": "text/x-python",
   "name": "python",
   "nbconvert_exporter": "python",
   "pygments_lexer": "ipython3",
   "version": "3.5.2"
  }
 },
 "nbformat": 4,
 "nbformat_minor": 2
}
