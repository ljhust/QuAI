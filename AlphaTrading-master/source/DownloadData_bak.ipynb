{
 "cells": [
  {
   "cell_type": "code",
   "execution_count": 2,
   "metadata": {
    "collapsed": false
   },
   "outputs": [
    {
     "name": "stdout",
     "output_type": "stream",
     "text": [
      "Population Check - Initial #: 1059\n"
     ]
    }
   ],
   "source": [
    "# Constructs Time Series Data for All Stocks\n",
    "import pandas as pd\n",
    "import numpy as np\n",
    "from datetime import datetime\n",
    "import tushare as ts\n",
    "\n",
    "from scipy.stats import rankdata\n",
    "\n",
    "import seaborn as sns\n",
    "\n",
    "# Pull All Trade Dates\n",
    "trade_dates = pd.Series(data=[pd.Timestamp(date) for date in get_trading_dates('2001-01-01', '2018-12-31')], name='trade_date')\n",
    "\n",
    "year_start = 2001\n",
    "year_end = 2012\n",
    "\n",
    "# date_end_last_dt = max(trade_dates[trade_dates.dt.year == year_start-1])\n",
    "date_start_dt = min(trade_dates[trade_dates.dt.year == year_start])\n",
    "date_end_dt = max(trade_dates[trade_dates.dt.year == year_end])\n",
    "\n",
    "# date_end_last = date_end_last_dt.strftime('%Y-%m-%d')\n",
    "date_start = date_start_dt.strftime('%Y-%m-%d')\n",
    "date_end = date_end_dt.strftime('%Y-%m-%d')\n",
    "\n",
    "# Construct Stock Population\n",
    "stock_all = all_instruments(type=\"CS\", country='cn', date=date_start_dt)\n",
    "stock_list = stock_all['order_book_id'].tolist()\n",
    "print(\"Population Check - Initial #: {}\".format(stock_all.shape[0]))"
   ]
  },
  {
   "cell_type": "code",
   "execution_count": 3,
   "metadata": {
    "collapsed": false
   },
   "outputs": [
    {
     "name": "stdout",
     "output_type": "stream",
     "text": [
      "WARN: start_date is earlier than 2005-01-04, adjusted\n"
     ]
    }
   ],
   "source": [
    "trade_data = get_price(stock_list, start_date=date_start, end_date=date_end, frequency='1d', \n",
    "                       fields=['close', 'total_turnover', 'volume'], \n",
    "                       adjust_type='pre', skip_suspended=False, country='cn')\n",
    "\n",
    "return_data = get_price_change_rate(stock_list, start_date=date_start, end_date=date_end)\n",
    "\n",
    "turnover_data = get_turnover_rate(stock_list, date_start, date_end, fields=['week', 'month'])\n",
    "\n",
    "fundamental_data = {}\n",
    "for dt in trade_dates[(trade_dates.dt.year >= year_start) & (trade_dates.dt.year <= year_end)]:\n",
    "    _fundamental_data = get_fundamentals(\n",
    "        query(\n",
    "        fundamentals.eod_derivative_indicator.market_cap, #总市值\n",
    "        fundamentals.eod_derivative_indicator.a_share_market_val_2, #流通市值\n",
    "        fundamentals.cash_flow_statement.cash_received_from_sales_of_goods, #销售额 - 单季/同比\n",
    "        fundamentals.eod_derivative_indicator.pb_ratio, #净资产/总市值=市净率\n",
    "        fundamentals.income_statement.net_profit, #净利润\n",
    "        fundamentals.eod_derivative_indicator.ps_ratio #市销率\n",
    "        ).filter(fundamentals.income_statement.stockcode.in_(stock_list)), \n",
    "        entry_date=dt, interval='1q', report_quarter=True\n",
    "    )\n",
    "    _fundamental_data = _fundamental_data.to_frame()\n",
    "    _fundamental_data.index.names = ['date', 'order_book_id']\n",
    "    fundamental_data[dt] = _fundamental_data\n",
    "    \n",
    "fundamental_data = pd.concat(fundamental_data)\n",
    "fundamental_data.reset_index(level=0, drop=True, inplace=True)\n",
    "\n",
    "# Aggregate Data\n",
    "\n",
    "trade_ts = trade_data.to_frame()\n",
    "trade_ts.index.names = ['date', 'order_book_id']\n",
    "\n",
    "return_ts = pd.DataFrame(return_data.stack(), columns=['return'])\n",
    "return_ts.index.names = ['date', 'order_book_id']\n",
    "\n",
    "turnover_ts = turnover_data.to_frame()\n",
    "turnover_ts.index.names = ['date', 'order_book_id']\n",
    "\n",
    "data = return_ts.merge(trade_ts, how='left', left_index=True, right_index=True)\n",
    "data = data.merge(turnover_ts, how='left', left_index=True, right_index=True)\n",
    "data = data.merge(fundamental_data, how='left', left_index=True, right_index=True)\n",
    "\n",
    "# Save Data\n",
    "data.to_csv(\"stock_data_all_2016_2018.csv\")\n"
   ]
  },
  {
   "cell_type": "code",
   "execution_count": 4,
   "metadata": {
    "collapsed": false
   },
   "outputs": [],
   "source": [
    "trade_ts = trade_data.to_frame()\n",
    "trade_ts.index.names = ['date', 'order_book_id']\n",
    "\n",
    "return_ts = pd.DataFrame(return_data.stack(), columns=['return'])\n",
    "return_ts.index.names = ['date', 'order_book_id']\n",
    "\n",
    "turnover_ts = turnover_data.to_frame()\n",
    "turnover_ts.index.names = ['date', 'order_book_id']\n",
    "\n",
    "data = return_ts.merge(trade_ts, how='left', left_index=True, right_index=True)\n",
    "data = data.merge(turnover_ts, how='left', left_index=True, right_index=True)\n",
    "data = data.merge(fundamental_data, how='left', left_index=True, right_index=True)\n"
   ]
  },
  {
   "cell_type": "code",
   "execution_count": 5,
   "metadata": {
    "collapsed": true
   },
   "outputs": [],
   "source": [
    "# data.to_csv(\"stock_data_all_2005_2012.csv\")\n",
    "\n",
    "# Break data into monthly chunks\n",
    "year = 2011\n",
    "for month in range(1,13):\n",
    "  data_tmp = data.loc[(data['date'].dt.year == year) & (data['date'].dt.month == month), :]\n",
    "  data_tmp.to_csv(\"stock_data_all_\"+str(year)+\"{0:0=2d}\".format(month)+\".csv\")"
   ]
  },
  {
   "cell_type": "code",
   "execution_count": null,
   "metadata": {
    "collapsed": true
   },
   "outputs": [],
   "source": []
  }
 ],
 "metadata": {
  "kernelspec": {
   "display_name": "Python 3",
   "language": "python",
   "name": "python3"
  },
  "language_info": {
   "codemirror_mode": {
    "name": "ipython",
    "version": 3
   },
   "file_extension": ".py",
   "mimetype": "text/x-python",
   "name": "python",
   "nbconvert_exporter": "python",
   "pygments_lexer": "ipython3",
   "version": "3.5.2"
  }
 },
 "nbformat": 4,
 "nbformat_minor": 2
}
