{
 "cells": [
  {
   "cell_type": "code",
   "execution_count": 1,
   "metadata": {
    "collapsed": false
   },
   "outputs": [
    {
     "name": "stdout",
     "output_type": "stream",
     "text": [
      "Population Check - Initial #: 2320\n"
     ]
    }
   ],
   "source": [
    "# Constructs Time Series Data for All Stocks\n",
    "import pandas as pd\n",
    "import numpy as np\n",
    "from datetime import datetime\n",
    "from datetime import timedelta\n",
    "import tushare as ts\n",
    "\n",
    "from scipy.stats import rankdata\n",
    "\n",
    "import seaborn as sns\n",
    "\n",
    "# Pull All Trade Dates\n",
    "trade_dates = pd.Series(data=[pd.Timestamp(date) for date in get_trading_dates('2001-01-01', '2018-12-31')], name='trade_date')\n",
    "\n",
    "# year_start = 2001\n",
    "year_start = 2012\n",
    "year_end = 2018\n",
    "\n",
    "# date_end_last_dt = max(trade_dates[trade_dates.dt.year == year_start-1])\n",
    "date_start_dt = min(trade_dates[trade_dates.dt.year == year_start])\n",
    "date_end_dt = max(trade_dates[trade_dates.dt.year == year_end])\n",
    "# date_end_dt = date_start_dt+timedelta(days=1) # 2012-01-05\n",
    "# date_end_last = date_end_last_dt.strftime('%Y-%m-%d')\n",
    "date_start = date_start_dt.strftime('%Y-%m-%d')\n",
    "date_end = date_end_dt.strftime('%Y-%m-%d')\n",
    "\n",
    "# Construct Stock Population\n",
    "stock_all = all_instruments(type=\"CS\", country='cn', date=date_start_dt)\n",
    "stock_list = stock_all['order_book_id'].tolist()\n",
    "print(\"Population Check - Initial #: {}\".format(stock_all.shape[0]))"
   ]
  },
  {
   "cell_type": "code",
   "execution_count": 2,
   "metadata": {
    "collapsed": false
   },
   "outputs": [],
   "source": [
    "price_data = get_price(stock_list, start_date=date_start, end_date=date_end, frequency='1d', \n",
    "                       fields=['close'], \n",
    "                       adjust_type='pre', skip_suspended=False, country='cn')\n",
    "price_data.to_csv(\"cn_stock_price_{}_{}.csv\".format(year_start,year_end)) # Download price data"
   ]
  },
  {
   "cell_type": "code",
   "execution_count": 3,
   "metadata": {
    "collapsed": false
   },
   "outputs": [
    {
     "data": {
      "text/html": [
       "<div>\n",
       "<table border=\"1\" class=\"dataframe\">\n",
       "  <thead>\n",
       "    <tr style=\"text-align: right;\">\n",
       "      <th></th>\n",
       "      <th>300188.XSHE</th>\n",
       "      <th>600337.XSHG</th>\n",
       "      <th>600168.XSHG</th>\n",
       "      <th>002337.XSHE</th>\n",
       "      <th>600592.XSHG</th>\n",
       "      <th>000950.XSHE</th>\n",
       "      <th>600991.XSHG</th>\n",
       "      <th>002473.XSHE</th>\n",
       "      <th>600784.XSHG</th>\n",
       "      <th>600736.XSHG</th>\n",
       "      <th>...</th>\n",
       "      <th>600345.XSHG</th>\n",
       "      <th>600387.XSHG</th>\n",
       "      <th>000063.XSHE</th>\n",
       "      <th>002506.XSHE</th>\n",
       "      <th>300151.XSHE</th>\n",
       "      <th>002579.XSHE</th>\n",
       "      <th>000563.XSHE</th>\n",
       "      <th>000551.XSHE</th>\n",
       "      <th>002578.XSHE</th>\n",
       "      <th>000726.XSHE</th>\n",
       "    </tr>\n",
       "  </thead>\n",
       "  <tbody>\n",
       "    <tr>\n",
       "      <th>2012-01-04</th>\n",
       "      <td>4.3401</td>\n",
       "      <td>3.1750</td>\n",
       "      <td>6.3693</td>\n",
       "      <td>2.8752</td>\n",
       "      <td>6.8314</td>\n",
       "      <td>4.0168</td>\n",
       "      <td>15.08</td>\n",
       "      <td>7.2898</td>\n",
       "      <td>5.0104</td>\n",
       "      <td>4.0135</td>\n",
       "      <td>...</td>\n",
       "      <td>9.4373</td>\n",
       "      <td>8.7711</td>\n",
       "      <td>13.3691</td>\n",
       "      <td>2.6406</td>\n",
       "      <td>2.0055</td>\n",
       "      <td>3.4037</td>\n",
       "      <td>2.3129</td>\n",
       "      <td>5.7181</td>\n",
       "      <td>1.8931</td>\n",
       "      <td>6.0165</td>\n",
       "    </tr>\n",
       "    <tr>\n",
       "      <th>2012-01-05</th>\n",
       "      <td>4.0743</td>\n",
       "      <td>2.8583</td>\n",
       "      <td>6.1697</td>\n",
       "      <td>2.6739</td>\n",
       "      <td>6.1737</td>\n",
       "      <td>3.9101</td>\n",
       "      <td>15.08</td>\n",
       "      <td>6.9505</td>\n",
       "      <td>4.5089</td>\n",
       "      <td>3.8534</td>\n",
       "      <td>...</td>\n",
       "      <td>8.8456</td>\n",
       "      <td>8.5560</td>\n",
       "      <td>13.2895</td>\n",
       "      <td>2.3920</td>\n",
       "      <td>1.8872</td>\n",
       "      <td>3.1452</td>\n",
       "      <td>2.2942</td>\n",
       "      <td>5.2525</td>\n",
       "      <td>1.7877</td>\n",
       "      <td>6.0005</td>\n",
       "    </tr>\n",
       "    <tr>\n",
       "      <th>2012-01-06</th>\n",
       "      <td>4.1173</td>\n",
       "      <td>2.6920</td>\n",
       "      <td>5.9511</td>\n",
       "      <td>2.7148</td>\n",
       "      <td>6.2207</td>\n",
       "      <td>4.1429</td>\n",
       "      <td>15.11</td>\n",
       "      <td>7.0765</td>\n",
       "      <td>4.6111</td>\n",
       "      <td>3.9570</td>\n",
       "      <td>...</td>\n",
       "      <td>8.9315</td>\n",
       "      <td>8.4289</td>\n",
       "      <td>12.9473</td>\n",
       "      <td>2.4624</td>\n",
       "      <td>1.9159</td>\n",
       "      <td>3.1724</td>\n",
       "      <td>2.2475</td>\n",
       "      <td>5.2787</td>\n",
       "      <td>1.7897</td>\n",
       "      <td>6.2645</td>\n",
       "    </tr>\n",
       "    <tr>\n",
       "      <th>2012-01-09</th>\n",
       "      <td>4.4041</td>\n",
       "      <td>2.7791</td>\n",
       "      <td>6.2172</td>\n",
       "      <td>2.8154</td>\n",
       "      <td>6.4744</td>\n",
       "      <td>4.2787</td>\n",
       "      <td>15.12</td>\n",
       "      <td>7.4449</td>\n",
       "      <td>4.8741</td>\n",
       "      <td>4.2114</td>\n",
       "      <td>...</td>\n",
       "      <td>9.3705</td>\n",
       "      <td>8.9765</td>\n",
       "      <td>13.2975</td>\n",
       "      <td>2.5991</td>\n",
       "      <td>2.0094</td>\n",
       "      <td>3.3194</td>\n",
       "      <td>2.3362</td>\n",
       "      <td>5.7050</td>\n",
       "      <td>1.8814</td>\n",
       "      <td>6.4965</td>\n",
       "    </tr>\n",
       "    <tr>\n",
       "      <th>2012-01-10</th>\n",
       "      <td>4.5124</td>\n",
       "      <td>2.9137</td>\n",
       "      <td>6.4549</td>\n",
       "      <td>2.9570</td>\n",
       "      <td>6.7845</td>\n",
       "      <td>4.4437</td>\n",
       "      <td>15.29</td>\n",
       "      <td>7.7357</td>\n",
       "      <td>5.1370</td>\n",
       "      <td>4.2962</td>\n",
       "      <td>...</td>\n",
       "      <td>9.7712</td>\n",
       "      <td>9.3285</td>\n",
       "      <td>13.8864</td>\n",
       "      <td>2.7565</td>\n",
       "      <td>2.1143</td>\n",
       "      <td>3.4255</td>\n",
       "      <td>2.4087</td>\n",
       "      <td>5.9410</td>\n",
       "      <td>2.0024</td>\n",
       "      <td>6.6565</td>\n",
       "    </tr>\n",
       "  </tbody>\n",
       "</table>\n",
       "<p>5 rows × 2320 columns</p>\n",
       "</div>"
      ],
      "text/plain": [
       "            300188.XSHE  600337.XSHG  600168.XSHG  002337.XSHE  600592.XSHG  \\\n",
       "2012-01-04       4.3401       3.1750       6.3693       2.8752       6.8314   \n",
       "2012-01-05       4.0743       2.8583       6.1697       2.6739       6.1737   \n",
       "2012-01-06       4.1173       2.6920       5.9511       2.7148       6.2207   \n",
       "2012-01-09       4.4041       2.7791       6.2172       2.8154       6.4744   \n",
       "2012-01-10       4.5124       2.9137       6.4549       2.9570       6.7845   \n",
       "\n",
       "            000950.XSHE  600991.XSHG  002473.XSHE  600784.XSHG  600736.XSHG  \\\n",
       "2012-01-04       4.0168        15.08       7.2898       5.0104       4.0135   \n",
       "2012-01-05       3.9101        15.08       6.9505       4.5089       3.8534   \n",
       "2012-01-06       4.1429        15.11       7.0765       4.6111       3.9570   \n",
       "2012-01-09       4.2787        15.12       7.4449       4.8741       4.2114   \n",
       "2012-01-10       4.4437        15.29       7.7357       5.1370       4.2962   \n",
       "\n",
       "               ...       600345.XSHG  600387.XSHG  000063.XSHE  002506.XSHE  \\\n",
       "2012-01-04     ...            9.4373       8.7711      13.3691       2.6406   \n",
       "2012-01-05     ...            8.8456       8.5560      13.2895       2.3920   \n",
       "2012-01-06     ...            8.9315       8.4289      12.9473       2.4624   \n",
       "2012-01-09     ...            9.3705       8.9765      13.2975       2.5991   \n",
       "2012-01-10     ...            9.7712       9.3285      13.8864       2.7565   \n",
       "\n",
       "            300151.XSHE  002579.XSHE  000563.XSHE  000551.XSHE  002578.XSHE  \\\n",
       "2012-01-04       2.0055       3.4037       2.3129       5.7181       1.8931   \n",
       "2012-01-05       1.8872       3.1452       2.2942       5.2525       1.7877   \n",
       "2012-01-06       1.9159       3.1724       2.2475       5.2787       1.7897   \n",
       "2012-01-09       2.0094       3.3194       2.3362       5.7050       1.8814   \n",
       "2012-01-10       2.1143       3.4255       2.4087       5.9410       2.0024   \n",
       "\n",
       "            000726.XSHE  \n",
       "2012-01-04       6.0165  \n",
       "2012-01-05       6.0005  \n",
       "2012-01-06       6.2645  \n",
       "2012-01-09       6.4965  \n",
       "2012-01-10       6.6565  \n",
       "\n",
       "[5 rows x 2320 columns]"
      ]
     },
     "execution_count": 3,
     "metadata": {},
     "output_type": "execute_result"
    }
   ],
   "source": [
    "price_data.head()"
   ]
  },
  {
   "cell_type": "code",
   "execution_count": 4,
   "metadata": {
    "collapsed": false
   },
   "outputs": [],
   "source": [
    "trade_data = get_price(stock_list, start_date=date_start, end_date=date_end, frequency='1d', \n",
    "                       fields=['close', 'total_turnover', 'volume'], \n",
    "                       adjust_type='pre', skip_suspended=False, country='cn')"
   ]
  },
  {
   "cell_type": "code",
   "execution_count": 5,
   "metadata": {
    "collapsed": true
   },
   "outputs": [],
   "source": [
    "return_data = get_price_change_rate(stock_list, start_date=date_start, end_date=date_end)"
   ]
  },
  {
   "cell_type": "code",
   "execution_count": 6,
   "metadata": {
    "collapsed": true
   },
   "outputs": [],
   "source": [
    "turnover_data = get_turnover_rate(stock_list, date_start, date_end, fields=['week', 'month'])"
   ]
  },
  {
   "cell_type": "code",
   "execution_count": 9,
   "metadata": {
    "collapsed": false
   },
   "outputs": [],
   "source": [
    "instrument_info = instruments(stock_list)"
   ]
  },
  {
   "cell_type": "code",
   "execution_count": 25,
   "metadata": {
    "collapsed": false
   },
   "outputs": [
    {
     "data": {
      "text/plain": [
       "Instrument(industry_name='软件和信息技术服务业', sector_code_name='信息技术', abbrev_symbol='MYBK', listed_date='2011-03-16', exchange='XSHE', symbol='美亚柏科', industry_code='I65', round_lot=100.0, order_book_id='300188.XSHE', special_type='Normal', shenwan_industry_name='计算机', de_listed_date='0000-00-00', type='CS', sector_code='InformationTechnology', board_type='GEM', shenwan_industry_code='801750.INDX', status='Active')"
      ]
     },
     "execution_count": 25,
     "metadata": {},
     "output_type": "execute_result"
    }
   ],
   "source": [
    "instrument_info[0]"
   ]
  },
  {
   "cell_type": "code",
   "execution_count": 27,
   "metadata": {
    "collapsed": false
   },
   "outputs": [],
   "source": [
    "# Download instrument information\n",
    "\n",
    "bookId_list = []\n",
    "exchange_list = []\n",
    "abbrevSymbol_list = []\n",
    "shenwanIndustryCode_list = []\n",
    "shenwanIndustryName_list = []\n",
    "industryCode_list = []\n",
    "industryName_list = []\n",
    "sectorCode_list = []\n",
    "sectorName_list = []\n",
    "for inst in instrument_info:\n",
    "  bookId_list.append(inst.order_book_id)\n",
    "  exchange_list.append(inst.exchange)\n",
    "  abbrevSymbol_list.append(inst.abbrev_symbol)\n",
    "  shenwanIndustryCode_list.append(inst.shenwan_industry_code)\n",
    "  shenwanIndustryName_list.append(inst.shenwan_industry_name)\n",
    "  industryCode_list.append(inst.industry_code)\n",
    "  industryName_list.append(inst.industry_name)\n",
    "  sectorCode_list.append(inst.sector_code)\n",
    "  sectorName_list.append(inst.sector_code_name)\n",
    "  \n",
    "instrument_df = pd.DataFrame({\"bookId\":bookId_list,\n",
    "                             \"exchange\":exchange_list,\n",
    "                             \"abbrevSymbol\":abbrevSymbol_list,\n",
    "                             \"shenwanIndustryCode\":shenwanIndustryCode_list,\n",
    "                             \"shenwanIndustryName\":shenwanIndustryName_list,\n",
    "                             \"industryCode\":industryCode_list,\n",
    "                             \"industryName\":industryName_list,\n",
    "                             \"sectorCode\":sectorCode_list,\n",
    "                             \"sectorName\":sectorName_list})"
   ]
  },
  {
   "cell_type": "code",
   "execution_count": 29,
   "metadata": {
    "collapsed": false
   },
   "outputs": [],
   "source": [
    "instrument_df.to_csv(\"cn_instrument_info_{}_{}.csv\".format(year_start,year_end))"
   ]
  },
  {
   "cell_type": "code",
   "execution_count": 7,
   "metadata": {
    "collapsed": false
   },
   "outputs": [
    {
     "name": "stdout",
     "output_type": "stream",
     "text": [
      "Date: 2012-01-04 00:00:00 | Progress: 0.05875440658049354%\n",
      "Date: 2012-01-05 00:00:00 | Progress: 0.11750881316098707%\n",
      "Date: 2012-01-06 00:00:00 | Progress: 0.17626321974148063%\n",
      "Date: 2012-01-09 00:00:00 | Progress: 0.23501762632197415%\n",
      "Date: 2012-01-10 00:00:00 | Progress: 0.2937720329024677%\n",
      "Date: 2012-01-11 00:00:00 | Progress: 0.35252643948296125%\n",
      "Date: 2012-01-12 00:00:00 | Progress: 0.4112808460634548%\n",
      "Date: 2012-01-13 00:00:00 | Progress: 0.4700352526439483%\n",
      "Date: 2012-01-16 00:00:00 | Progress: 0.5287896592244419%\n",
      "Date: 2012-01-17 00:00:00 | Progress: 0.5875440658049353%\n",
      "Date: 2012-01-18 00:00:00 | Progress: 0.6462984723854289%\n",
      "Date: 2012-01-19 00:00:00 | Progress: 0.7050528789659225%\n",
      "Date: 2012-01-20 00:00:00 | Progress: 0.763807285546416%\n",
      "Date: 2012-01-30 00:00:00 | Progress: 0.8225616921269095%\n",
      "Date: 2012-01-31 00:00:00 | Progress: 0.881316098707403%\n",
      "Date: 2012-02-01 00:00:00 | Progress: 0.9400705052878966%\n"
     ]
    },
    {
     "ename": "KeyboardInterrupt",
     "evalue": "",
     "traceback": [
      "\u001b[0;31m---------------------------------------------------------------------------\u001b[0m",
      "\u001b[0;31mKeyboardInterrupt\u001b[0m                         Traceback (most recent call last)",
      "\u001b[0;32m<ipython-input-7-7e4cef048025>\u001b[0m in \u001b[0;36m<module>\u001b[0;34m()\u001b[0m\n\u001b[1;32m     15\u001b[0m       \u001b[0;34m.\u001b[0m\u001b[0mfilter\u001b[0m\u001b[0;34m(\u001b[0m\u001b[0mfundamentals\u001b[0m\u001b[0;34m.\u001b[0m\u001b[0mincome_statement\u001b[0m\u001b[0;34m.\u001b[0m\u001b[0mstockcode\u001b[0m\u001b[0;34m.\u001b[0m\u001b[0min_\u001b[0m\u001b[0;34m(\u001b[0m\u001b[0mstock_list\u001b[0m\u001b[0;34m)\u001b[0m\u001b[0;34m)\u001b[0m\u001b[0;34m\u001b[0m\u001b[0m\n\u001b[1;32m     16\u001b[0m       \u001b[0;34m,\u001b[0m\u001b[0;34m\u001b[0m\u001b[0m\n\u001b[0;32m---> 17\u001b[0;31m         \u001b[0mentry_date\u001b[0m\u001b[0;34m=\u001b[0m\u001b[0mdt\u001b[0m\u001b[0;34m,\u001b[0m \u001b[0minterval\u001b[0m\u001b[0;34m=\u001b[0m\u001b[0;34m'1q'\u001b[0m\u001b[0;34m,\u001b[0m \u001b[0mreport_quarter\u001b[0m\u001b[0;34m=\u001b[0m\u001b[0;32mTrue\u001b[0m\u001b[0;34m\u001b[0m\u001b[0m\n\u001b[0m\u001b[1;32m     18\u001b[0m     )\n\u001b[1;32m     19\u001b[0m     \u001b[0m_fundamental_data\u001b[0m \u001b[0;34m=\u001b[0m \u001b[0m_fundamental_data\u001b[0m\u001b[0;34m.\u001b[0m\u001b[0mto_frame\u001b[0m\u001b[0;34m(\u001b[0m\u001b[0;34m)\u001b[0m\u001b[0;34m\u001b[0m\u001b[0m\n",
      "\u001b[0;32m/opt/conda/envs/ricequant/lib/python3.5/site-packages/rqcommons/facade.py\u001b[0m in \u001b[0;36mwrap\u001b[0;34m(*args, **kwargs)\u001b[0m\n\u001b[1;32m     29\u001b[0m             \u001b[0mprint\u001b[0m\u001b[0;34m(\u001b[0m\u001b[0;34m'Not inited yet. Please call rqdatac.init() first.'\u001b[0m\u001b[0;34m)\u001b[0m\u001b[0;34m\u001b[0m\u001b[0m\n\u001b[1;32m     30\u001b[0m             \u001b[0;32mreturn\u001b[0m\u001b[0;34m\u001b[0m\u001b[0m\n\u001b[0;32m---> 31\u001b[0;31m         \u001b[0;32mreturn\u001b[0m \u001b[0mfunc\u001b[0m\u001b[0;34m(\u001b[0m\u001b[0;34m*\u001b[0m\u001b[0margs\u001b[0m\u001b[0;34m,\u001b[0m \u001b[0;34m**\u001b[0m\u001b[0mkwargs\u001b[0m\u001b[0;34m)\u001b[0m\u001b[0;34m\u001b[0m\u001b[0m\n\u001b[0m\u001b[1;32m     32\u001b[0m     \u001b[0;32mreturn\u001b[0m \u001b[0mwrap\u001b[0m\u001b[0;34m\u001b[0m\u001b[0m\n\u001b[1;32m     33\u001b[0m \u001b[0;34m\u001b[0m\u001b[0m\n",
      "\u001b[0;32m/opt/conda/envs/ricequant/lib/python3.5/site-packages/rqcommons/facade.py\u001b[0m in \u001b[0;36mget_fundamentals\u001b[0;34m(query, entry_date, interval, report_quarter, country)\u001b[0m\n\u001b[1;32m    314\u001b[0m \u001b[0;32mdef\u001b[0m \u001b[0mget_fundamentals\u001b[0m\u001b[0;34m(\u001b[0m\u001b[0mquery\u001b[0m\u001b[0;34m,\u001b[0m \u001b[0mentry_date\u001b[0m\u001b[0;34m,\u001b[0m \u001b[0minterval\u001b[0m\u001b[0;34m=\u001b[0m\u001b[0;32mNone\u001b[0m\u001b[0;34m,\u001b[0m \u001b[0mreport_quarter\u001b[0m\u001b[0;34m=\u001b[0m\u001b[0;32mFalse\u001b[0m\u001b[0;34m,\u001b[0m \u001b[0mcountry\u001b[0m\u001b[0;34m=\u001b[0m\u001b[0;34m'cn'\u001b[0m\u001b[0;34m)\u001b[0m\u001b[0;34m:\u001b[0m\u001b[0;34m\u001b[0m\u001b[0m\n\u001b[1;32m    315\u001b[0m     \u001b[0;34m\"\"\"获取财务数据\"\"\"\u001b[0m\u001b[0;34m\u001b[0m\u001b[0m\n\u001b[0;32m--> 316\u001b[0;31m     \u001b[0;32mreturn\u001b[0m \u001b[0mimplmentation\u001b[0m\u001b[0;34m.\u001b[0m\u001b[0mget_fundamentals\u001b[0m\u001b[0;34m(\u001b[0m\u001b[0mquery\u001b[0m\u001b[0;34m,\u001b[0m \u001b[0mentry_date\u001b[0m\u001b[0;34m,\u001b[0m \u001b[0minterval\u001b[0m\u001b[0;34m,\u001b[0m \u001b[0mreport_quarter\u001b[0m\u001b[0;34m,\u001b[0m \u001b[0mcountry\u001b[0m\u001b[0;34m)\u001b[0m\u001b[0;34m\u001b[0m\u001b[0m\n\u001b[0m\u001b[1;32m    317\u001b[0m \u001b[0;34m\u001b[0m\u001b[0m\n\u001b[1;32m    318\u001b[0m \u001b[0;34m\u001b[0m\u001b[0m\n",
      "\u001b[0;32m/opt/conda/envs/ricequant/lib/python3.5/site-packages/rqdatac/implementation.py\u001b[0m in \u001b[0;36mget_fundamentals\u001b[0;34m(cls, query, entry_date, interval, report_quarter, country)\u001b[0m\n\u001b[1;32m    251\u001b[0m         \u001b[0;32mtry\u001b[0m\u001b[0;34m:\u001b[0m\u001b[0;34m\u001b[0m\u001b[0m\n\u001b[1;32m    252\u001b[0m             \u001b[0mquery\u001b[0m \u001b[0;34m=\u001b[0m \u001b[0m_unsafe_apply_query_filter\u001b[0m\u001b[0;34m(\u001b[0m\u001b[0mquery\u001b[0m\u001b[0;34m,\u001b[0m \u001b[0mtrading_dates\u001b[0m\u001b[0;34m)\u001b[0m\u001b[0;34m\u001b[0m\u001b[0m\n\u001b[0;32m--> 253\u001b[0;31m             \u001b[0mrecords\u001b[0m \u001b[0;34m=\u001b[0m \u001b[0mcls\u001b[0m\u001b[0;34m.\u001b[0m\u001b[0m_run_fundamental_query\u001b[0m\u001b[0;34m(\u001b[0m\u001b[0m_compile_query\u001b[0m\u001b[0;34m(\u001b[0m\u001b[0mquery\u001b[0m\u001b[0;34m)\u001b[0m\u001b[0;34m,\u001b[0m \u001b[0mcountry\u001b[0m\u001b[0;34m=\u001b[0m\u001b[0mcountry\u001b[0m\u001b[0;34m)\u001b[0m\u001b[0;34m\u001b[0m\u001b[0m\n\u001b[0m\u001b[1;32m    254\u001b[0m         \u001b[0;32mexcept\u001b[0m \u001b[0mException\u001b[0m \u001b[0;32mas\u001b[0m \u001b[0me\u001b[0m\u001b[0;34m:\u001b[0m\u001b[0;34m\u001b[0m\u001b[0m\n\u001b[1;32m    255\u001b[0m             \u001b[0mprint\u001b[0m\u001b[0;34m(\u001b[0m\u001b[0;34m'ERROR: internal error, please contact public@ricequant.com. exception: {}'\u001b[0m\u001b[0;34m.\u001b[0m\u001b[0mformat\u001b[0m\u001b[0;34m(\u001b[0m\u001b[0me\u001b[0m\u001b[0;34m)\u001b[0m\u001b[0;34m)\u001b[0m\u001b[0;34m\u001b[0m\u001b[0m\n",
      "\u001b[0;32m/opt/conda/envs/ricequant/lib/python3.5/site-packages/rqdatac/implementation.py\u001b[0m in \u001b[0;36m_compile_query\u001b[0;34m(query)\u001b[0m\n\u001b[1;32m     30\u001b[0m     \u001b[0mparams\u001b[0m \u001b[0;34m=\u001b[0m \u001b[0;34m[\u001b[0m\u001b[0;34m]\u001b[0m\u001b[0;34m\u001b[0m\u001b[0m\n\u001b[1;32m     31\u001b[0m     \u001b[0;32mfor\u001b[0m \u001b[0mk\u001b[0m \u001b[0;32min\u001b[0m \u001b[0mcomp\u001b[0m\u001b[0;34m.\u001b[0m\u001b[0mpositiontup\u001b[0m\u001b[0;34m:\u001b[0m\u001b[0;34m\u001b[0m\u001b[0m\n\u001b[0;32m---> 32\u001b[0;31m         \u001b[0mv\u001b[0m \u001b[0;34m=\u001b[0m \u001b[0mcomp\u001b[0m\u001b[0;34m.\u001b[0m\u001b[0mparams\u001b[0m\u001b[0;34m[\u001b[0m\u001b[0mk\u001b[0m\u001b[0;34m]\u001b[0m\u001b[0;34m\u001b[0m\u001b[0m\n\u001b[0m\u001b[1;32m     33\u001b[0m         \u001b[0mparams\u001b[0m\u001b[0;34m.\u001b[0m\u001b[0mappend\u001b[0m\u001b[0;34m(\u001b[0m\u001b[0mescape_item\u001b[0m\u001b[0;34m(\u001b[0m\u001b[0mv\u001b[0m\u001b[0;34m,\u001b[0m \u001b[0mconversions\u001b[0m\u001b[0;34m,\u001b[0m \u001b[0mencoders\u001b[0m\u001b[0;34m)\u001b[0m\u001b[0;34m)\u001b[0m\u001b[0;34m\u001b[0m\u001b[0m\n\u001b[1;32m     34\u001b[0m \u001b[0;34m\u001b[0m\u001b[0m\n",
      "\u001b[0;32m/opt/conda/envs/ricequant/lib/python3.5/site-packages/sqlalchemy/sql/compiler.py\u001b[0m in \u001b[0;36mparams\u001b[0;34m(self)\u001b[0m\n\u001b[1;32m    576\u001b[0m         \"\"\"Return the bind param dictionary embedded into this\n\u001b[1;32m    577\u001b[0m         compiled object, for those values that are present.\"\"\"\n\u001b[0;32m--> 578\u001b[0;31m         \u001b[0;32mreturn\u001b[0m \u001b[0mself\u001b[0m\u001b[0;34m.\u001b[0m\u001b[0mconstruct_params\u001b[0m\u001b[0;34m(\u001b[0m\u001b[0m_check\u001b[0m\u001b[0;34m=\u001b[0m\u001b[0;32mFalse\u001b[0m\u001b[0;34m)\u001b[0m\u001b[0;34m\u001b[0m\u001b[0m\n\u001b[0m\u001b[1;32m    579\u001b[0m \u001b[0;34m\u001b[0m\u001b[0m\n\u001b[1;32m    580\u001b[0m     \u001b[0;34m@\u001b[0m\u001b[0mutil\u001b[0m\u001b[0;34m.\u001b[0m\u001b[0mdependencies\u001b[0m\u001b[0;34m(\u001b[0m\u001b[0;34m\"sqlalchemy.engine.result\"\u001b[0m\u001b[0;34m)\u001b[0m\u001b[0;34m\u001b[0m\u001b[0m\n",
      "\u001b[0;32m/opt/conda/envs/ricequant/lib/python3.5/site-packages/sqlalchemy/sql/compiler.py\u001b[0m in \u001b[0;36mconstruct_params\u001b[0;34m(self, params, _group_number, _check)\u001b[0m\n\u001b[1;32m    569\u001b[0m                     \u001b[0mpd\u001b[0m\u001b[0;34m[\u001b[0m\u001b[0mself\u001b[0m\u001b[0;34m.\u001b[0m\u001b[0mbind_names\u001b[0m\u001b[0;34m[\u001b[0m\u001b[0mbindparam\u001b[0m\u001b[0;34m]\u001b[0m\u001b[0;34m]\u001b[0m \u001b[0;34m=\u001b[0m \u001b[0mbindparam\u001b[0m\u001b[0;34m.\u001b[0m\u001b[0meffective_value\u001b[0m\u001b[0;34m\u001b[0m\u001b[0m\n\u001b[1;32m    570\u001b[0m                 \u001b[0;32melse\u001b[0m\u001b[0;34m:\u001b[0m\u001b[0;34m\u001b[0m\u001b[0m\n\u001b[0;32m--> 571\u001b[0;31m                     \u001b[0mpd\u001b[0m\u001b[0;34m[\u001b[0m\u001b[0mself\u001b[0m\u001b[0;34m.\u001b[0m\u001b[0mbind_names\u001b[0m\u001b[0;34m[\u001b[0m\u001b[0mbindparam\u001b[0m\u001b[0;34m]\u001b[0m\u001b[0;34m]\u001b[0m \u001b[0;34m=\u001b[0m \u001b[0mbindparam\u001b[0m\u001b[0;34m.\u001b[0m\u001b[0mvalue\u001b[0m\u001b[0;34m\u001b[0m\u001b[0m\n\u001b[0m\u001b[1;32m    572\u001b[0m             \u001b[0;32mreturn\u001b[0m \u001b[0mpd\u001b[0m\u001b[0;34m\u001b[0m\u001b[0m\n\u001b[1;32m    573\u001b[0m \u001b[0;34m\u001b[0m\u001b[0m\n",
      "\u001b[0;31mKeyboardInterrupt\u001b[0m: "
     ],
     "output_type": "error"
    }
   ],
   "source": [
    "fundamental_data = {}\n",
    "query_dates = trade_dates[(trade_dates >= date_start_dt) & (trade_dates <= date_end_dt)]\n",
    "ndates = len(query_dates)\n",
    "for counter,dt in enumerate(query_dates):\n",
    "    print(\"Date: {} | Progress: {}%\".format(dt,(counter+1)/ndates*100))\n",
    "    _fundamental_data = get_fundamentals(\n",
    "        query(\n",
    "        fundamentals.eod_derivative_indicator.market_cap, #总市值\n",
    "        fundamentals.eod_derivative_indicator.a_share_market_val_2, #流通市值\n",
    "        fundamentals.cash_flow_statement.cash_received_from_sales_of_goods, #销售额 - 单季/同比\n",
    "        fundamentals.eod_derivative_indicator.pb_ratio, #净资产/总市值=市净率\n",
    "        fundamentals.income_statement.net_profit, #净利润\n",
    "        fundamentals.eod_derivative_indicator.ps_ratio #市销率\n",
    "        )\n",
    "      .filter(fundamentals.income_statement.stockcode.in_(stock_list))\n",
    "      , \n",
    "        entry_date=dt, interval='1q', report_quarter=True\n",
    "    )\n",
    "    _fundamental_data = _fundamental_data.to_frame()\n",
    "    _fundamental_data.index.names = ['date', 'order_book_id']\n",
    "    fundamental_data[dt] = _fundamental_data\n",
    "    \n",
    "fundamental_data = pd.concat(fundamental_data)\n",
    "fundamental_data.reset_index(level=0, drop=True, inplace=True)"
   ]
  },
  {
   "cell_type": "code",
   "execution_count": null,
   "metadata": {
    "collapsed": false
   },
   "outputs": [],
   "source": [
    "trade_ts = trade_data.to_frame()\n",
    "trade_ts.index.names = ['date', 'order_book_id']\n",
    "\n",
    "return_ts = pd.DataFrame(return_data.stack(), columns=['return'])\n",
    "return_ts.index.names = ['date', 'order_book_id']\n",
    "\n",
    "turnover_ts = turnover_data.to_frame()\n",
    "turnover_ts.index.names = ['date', 'order_book_id']\n",
    "\n",
    "data = return_ts.merge(trade_ts, how='left', left_index=True, right_index=True)\n",
    "data = data.merge(turnover_ts, how='left', left_index=True, right_index=True)\n",
    "data = data.merge(fundamental_data, how='left', left_index=True, right_index=True)"
   ]
  },
  {
   "cell_type": "code",
   "execution_count": null,
   "metadata": {
    "collapsed": false
   },
   "outputs": [],
   "source": [
    "data.head()"
   ]
  },
  {
   "cell_type": "code",
   "execution_count": null,
   "metadata": {
    "collapsed": true
   },
   "outputs": [],
   "source": [
    "# Save Data\n",
    "data.to_csv(\"cn_equity_daily_{}_{}.csv\".format(year_start,year_end))"
   ]
  },
  {
   "cell_type": "code",
   "execution_count": null,
   "metadata": {
    "collapsed": true
   },
   "outputs": [],
   "source": []
  }
 ],
 "metadata": {
  "kernelspec": {
   "display_name": "Python 3",
   "language": "python",
   "name": "python3"
  },
  "language_info": {
   "codemirror_mode": {
    "name": "ipython",
    "version": 3
   },
   "file_extension": ".py",
   "mimetype": "text/x-python",
   "name": "python",
   "nbconvert_exporter": "python",
   "pygments_lexer": "ipython3",
   "version": "3.5.5"
  }
 },
 "nbformat": 4,
 "nbformat_minor": 2
}
